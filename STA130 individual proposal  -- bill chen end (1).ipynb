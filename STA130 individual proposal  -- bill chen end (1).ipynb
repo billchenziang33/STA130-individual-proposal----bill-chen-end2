{
 "cells": [
  {
   "cell_type": "markdown",
   "id": "a9aeafc8",
   "metadata": {},
   "source": [
    "In my STA 130 individual proposal, I plan to explore the impact of COVID-19 on people's happiness and feelings of self-worth. Specifically, I will analyze three relationships using different statistical methods.\n",
    "\n",
    "First, First Research Question:\n",
    "\n",
    "Does the extent to which people reduced in-person contact during the pandemic (COVID_reduce_people) affect their life satisfaction (WELLNESS_life_satisfaction)?\n",
    "\n",
    "Analysis Method:\n",
    "\n",
    "I will use ANOVA (Analysis of Variance) to determine if there are significant differences in life satisfaction among different levels of reduced in-person contact.\n",
    "\n",
    "I will extract the relevant data and compute descriptive statistics like mean, median, mode, and standard deviation. By creating a box plot, I can visualize the distribution of life satisfaction scores across different levels of reduced contact. I will then conduct an ANOVA to test whether there are significant differences in life satisfaction among these groups. Using Python's \"statsmodels\" library, I will calculate the p-value and compare it with a significance level of 0.05 to decide whether to reject the null hypothesis that the means are equal.\n",
    "\n",
    "Second, Second Research Question:\n",
    "\n",
    "Is there a significant relationship between the frequency of receiving texts or messages (CONNECTION_activities_text_or_messaged_p3m) and feelings of worthlessness (WELLNESS_worthless)?\n",
    "\n",
    "Analysis Method:\n",
    "\n",
    "I will analyze the data using confidence intervals to compare the means of feelings of worthlessness across different texting frequency levels.\n",
    "\n",
    "I will assign numerical values to each level of texting frequency (Never=0, Almost never=1, Rarely=2, Sometimes=3, Often=4, Very often=5). Using Python's groupby() function, I will calculate the mean of WELLNESS_worthless for each group and build confidence intervals. By checking whether the confidence intervals for the means overlap, I can assess if there are significant differences between groups. Non-overlapping intervals would indicate a significant difference in feelings of worthlessness among different texting frequency levels.\n",
    "\n",
    "Third, Third Research Question:\n",
    "\n",
    "Can the degree to which people reduced in-person contact during the pandemic predict their life satisfaction levels?\n",
    "\n",
    "Analysis Method:\n",
    "\n",
    "I will perform a linear regression analysis to determine the predictive relationship between COVID_reduce_people and WELLNESS_life_satisfaction.\n",
    "\n",
    " I will convert the categories of COVID_reduce_people to numerical values (Not at all=0, Somewhat closely=1, Very closely=2) and set it as the independent variable, with WELLNESS_life_satisfaction as the dependent variable. Using Python, I will build the linear regression model to obtain the coefficient, p-value, and R-squared value. A high R-squared value would indicate a good model fit and a strong relationship between the variables, suggesting that the extent of reduced contact can predict life satisfaction levels.\n",
    "\n",
    "As for group collaboration, I prefer to work with Shiqi Lan from the same tutorial class. We have previously collaborated successfully, and since we both speak Mandarin, it will enhance our communication and efficiency on this topic."
   ]
  }
 ],
 "metadata": {
  "kernelspec": {
   "display_name": "Python 3 (ipykernel)",
   "language": "python",
   "name": "python3"
  },
  "language_info": {
   "codemirror_mode": {
    "name": "ipython",
    "version": 3
   },
   "file_extension": ".py",
   "mimetype": "text/x-python",
   "name": "python",
   "nbconvert_exporter": "python",
   "pygments_lexer": "ipython3",
   "version": "3.11.6"
  }
 },
 "nbformat": 4,
 "nbformat_minor": 5
}
